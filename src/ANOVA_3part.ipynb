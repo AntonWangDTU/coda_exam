{
 "cells": [
  {
   "cell_type": "markdown",
   "id": "21e7e629",
   "metadata": {},
   "source": [
    "# Clustering"
   ]
  },
  {
   "cell_type": "code",
   "execution_count": 28,
   "id": "4c685659",
   "metadata": {},
   "outputs": [],
   "source": [
    "import matplotlib.pyplot as plt\n",
    "import numpy as np\n",
    "import pandas as pd\n",
    "import scipy.special as sp\n",
    "import pycodamath as coda\n",
    "from pycodamath import plot\n",
    "from pycodamath import extra\n",
    "from statsmodels.formula.api import ols\n",
    "import scipy.optimize as optimization"
   ]
  },
  {
   "cell_type": "markdown",
   "id": "26925af9",
   "metadata": {},
   "source": [
    "#### 1. Data Loading"
   ]
  },
  {
   "cell_type": "code",
   "execution_count": 29,
   "id": "b9a72ff8",
   "metadata": {},
   "outputs": [
    {
     "name": "stdout",
     "output_type": "stream",
     "text": [
      "    Location Type       SiO2     Al2O3        FeO       MnO        MgO  \\\n",
      "0    Allende   cc  18.988184  1.813946  15.060742  0.099850  13.657292   \n",
      "1       Bali   cc  19.007148  1.778578  14.920921  0.106940  13.812124   \n",
      "2  Efremovka   cc  19.695752  1.934558   9.873708  0.109070  14.184845   \n",
      "3   Coolidge   cc  21.505779  2.068104   4.536082  0.149953  15.613871   \n",
      "4    Ankober   hc  19.700178  1.292911   7.272626  0.178333  12.739634   \n",
      "\n",
      "         Fe        Ni        Co         C     Oxides     Metals    Carbon  \n",
      "0  0.094303  0.199700  0.005547  0.177873  98.904400   0.597075  0.320651  \n",
      "1  0.084426  0.123825  0.005628  0.358695  98.579150   0.424862  0.637293  \n",
      "2  3.163031  0.786452  0.034443  0.496245  90.745423   7.893874  0.864459  \n",
      "3  5.173383  0.843486  0.049984  0.147950  87.513866  12.101391  0.236793  \n",
      "4  7.779759  0.952965  0.055729  0.062041  82.270415  17.556217  0.111327  \n",
      "(12, 14)\n"
     ]
    }
   ],
   "source": [
    "import pandas as pd\n",
    "import re\n",
    "\n",
    "# Load data\n",
    "data = pd.read_csv('../data/2-meteorites.csv', sep=',')\n",
    "data.rename(columns={'Unnamed: 0': 'Location'}, inplace=True)\n",
    "\n",
    "# Strip leading and trailing spaces from all column names\n",
    "data.columns = data.columns.str.strip()\n",
    "\n",
    "# Extract the part inside parentheses into 'Type'\n",
    "data['Type'] = data['Location'].str.extract(r'\\((.*?)\\)')\n",
    "\n",
    "# Remove the parentheses and content from 'Location'\n",
    "data['Location'] = data['Location'].str.replace(r'\\s*\\(.*?\\)', '', regex=True).str.strip()\n",
    "\n",
    "# Reorder columns: Location, Type, then the rest\n",
    "cols = ['Location', 'Type'] + [col for col in data.columns if col not in ['Location', 'Type']]\n",
    "data = data[cols]\n",
    "\n",
    "\n",
    "data['Oxides'] = data[['SiO2', 'Al2O3', 'FeO', 'MnO', 'MgO']].sum(axis=1)\n",
    "data['Metals'] = data[['Fe', 'Ni', 'Co']].sum(axis=1)\n",
    "data['Carbon'] = data['C']\n",
    "\n",
    "#First closure on the original parts\n",
    "data.iloc[:, 2:-3] = data.iloc[:, 2:-1].coda.closure(100)\n",
    "#Then closure on the new parts\n",
    "data.iloc[:, -4:] = data.iloc[:, -4:].coda.closure(100)\n",
    "\n",
    "# Check result\n",
    "print(data.head())\n",
    "print(data.shape)\n"
   ]
  },
  {
   "cell_type": "code",
   "execution_count": 30,
   "id": "eb4c4640",
   "metadata": {},
   "outputs": [],
   "source": [
    "\n",
    "response = data[['Oxides', 'Metals', 'Carbon']]\n",
    "covariates = data[['Type']]  # cc, hc, lc\n",
    "\n",
    "\n",
    "balance = [[1,1,-1],[1,-1,0]]"
   ]
  },
  {
   "cell_type": "code",
   "execution_count": 31,
   "id": "91917769",
   "metadata": {},
   "outputs": [],
   "source": [
    "\n",
    "# Normalize to get orthonormal basis\n",
    "psi = coda.extra.norm(balance)"
   ]
  },
  {
   "cell_type": "code",
   "execution_count": null,
   "id": "1f96088a",
   "metadata": {},
   "outputs": [
    {
     "name": "stdout",
     "output_type": "stream",
     "text": [
      "        ilr0      ilr1 covariates\n",
      "0   2.593700  3.613221         cc\n",
      "1   1.892607  3.851505         cc\n",
      "2   2.802808  1.726734         cc\n",
      "3   4.019715  1.398994         cc\n",
      "4   4.762621  1.092200         hc\n",
      "5   4.396055  1.089293         hc\n",
      "6   6.716871  0.924099         hc\n",
      "7   4.492074  0.961314         hc\n",
      "8   3.017040  2.406109         lc\n",
      "9   3.568428  1.644521         lc\n",
      "10  3.804869  1.429459         lc\n",
      "11  3.747116  1.607727         lc\n",
      "\n",
      "--- CLR beta coefficients (sorted) ---\n",
      "Carbon   -1.849118\n",
      "Oxides   -0.228653\n",
      "Metals    2.077771\n",
      "Name: clrbeta, dtype: float64\n"
     ]
    },
    {
     "name": "stderr",
     "output_type": "stream",
     "text": [
      "/tmp/ipykernel_82814/2540539654.py:10: FutureWarning: Series.__getitem__ treating keys as positions is deprecated. In a future version, integer keys will always be treated as labels (consistent with DataFrame behavior). To access a value by position, use `ser.iloc[pos]`\n",
      "  beta = [ols(part + ' ~ covariates', data=ilr).fit().params[1] for part in ilr.columns[:-1]]\n",
      "/tmp/ipykernel_82814/2540539654.py:10: FutureWarning: Series.__getitem__ treating keys as positions is deprecated. In a future version, integer keys will always be treated as labels (consistent with DataFrame behavior). To access a value by position, use `ser.iloc[pos]`\n",
      "  beta = [ols(part + ' ~ covariates', data=ilr).fit().params[1] for part in ilr.columns[:-1]]\n"
     ]
    }
   ],
   "source": [
    "\n",
    "# ILR transform\n",
    "ilr = response.coda.ilr(psi)\n",
    "ilr = ilr.rename(columns={0: 'ilr0', 1: 'ilr1'})\n",
    "\n",
    "# Attach covariate (Type)\n",
    "ilr['covariates'] = covariates['Type']\n",
    "print(ilr)\n",
    "\n",
    "# === Compute beta coefficients ===\n",
    "beta = [ols(part + ' ~ covariates', data=ilr).fit().params[1] for part in ilr.columns[:-1]]\n",
    "beta = pd.DataFrame(beta, columns=['beta'], index=ilr.columns[:-1]).T\n",
    "\n",
    "# Back-transform to CLR\n",
    "clrbeta = pd.DataFrame(np.dot(beta, psi), index=['clrbeta'], columns=response.columns)\n",
    "print('\\n--- CLR beta coefficients (sorted) ---')\n",
    "print(clrbeta.iloc[0].sort_values())\n"
   ]
  },
  {
   "cell_type": "code",
   "execution_count": 36,
   "id": "67017071",
   "metadata": {},
   "outputs": [
    {
     "name": "stdout",
     "output_type": "stream",
     "text": [
      "\n",
      "--- CLR beta coefficients (hc vs cc, sorted) ---\n",
      "Carbon   -1.849118\n",
      "Oxides   -0.228653\n",
      "Metals    2.077771\n",
      "Name: clr_beta_hc, dtype: float64\n",
      "\n",
      "--- CLR beta coefficients (lc vs cc, sorted) ---\n",
      "Carbon   -0.57739\n",
      "Oxides   -0.33049\n",
      "Metals    0.90788\n",
      "Name: clr_beta_lc, dtype: float64\n"
     ]
    }
   ],
   "source": [
    "import pandas as pd\n",
    "import numpy as np\n",
    "from statsmodels.formula.api import ols\n",
    "\n",
    "# Assume `response` and `covariates` are already set:\n",
    "# response = data[['Oxides', 'Metals', 'Carbon']]\n",
    "# covariates = data[['Type']]\n",
    "\n",
    "# Define balances\n",
    "balance = [[1, 1, -1], [1, -1, 0]]\n",
    "psi = coda.extra.norm(balance)\n",
    "\n",
    "# ILR transform\n",
    "ilr = response.coda.ilr(psi)\n",
    "ilr = ilr.rename(columns={0: 'ilr0', 1: 'ilr1'})\n",
    "ilr['Type'] = covariates['Type']\n",
    "\n",
    "# Initialize lists for storing both contrasts\n",
    "beta_hc = []\n",
    "beta_lc = []\n",
    "\n",
    "# For each ILR balance, extract hc vs cc and lc vs cc\n",
    "for part in ilr.columns[:-1]:\n",
    "    model = ols(f'{part} ~ Type', data=ilr).fit()\n",
    "    beta_hc.append(model.params.get('Type[T.hc]', np.nan))\n",
    "    beta_lc.append(model.params.get('Type[T.lc]', np.nan))\n",
    "\n",
    "# Convert to DataFrames\n",
    "beta_hc_df = pd.DataFrame(beta_hc, columns=['beta_hc'], index=ilr.columns[:-1]).T\n",
    "beta_lc_df = pd.DataFrame(beta_lc, columns=['beta_lc'], index=ilr.columns[:-1]).T\n",
    "\n",
    "# Back-transform to CLR coefficients\n",
    "clrbeta_hc = pd.DataFrame(np.dot(beta_hc_df, psi), index=['clr_beta_hc'], columns=response.columns)\n",
    "clrbeta_lc = pd.DataFrame(np.dot(beta_lc_df, psi), index=['clr_beta_lc'], columns=response.columns)\n",
    "\n",
    "# Print sorted results\n",
    "print('\\n--- CLR beta coefficients (hc vs cc, sorted) ---')\n",
    "print(clrbeta_hc.iloc[0].sort_values())\n",
    "\n",
    "print('\\n--- CLR beta coefficients (lc vs cc, sorted) ---')\n",
    "print(clrbeta_lc.iloc[0].sort_values())\n"
   ]
  },
  {
   "cell_type": "code",
   "execution_count": 40,
   "id": "24df4521",
   "metadata": {},
   "outputs": [
    {
     "name": "stdout",
     "output_type": "stream",
     "text": [
      "\n",
      "--- ANOVA per ILR balance ---\n",
      "ilr0\n",
      "Intercept (cc): 0.8793\n",
      "Beta hc vs cc: -2.5447\n",
      "Beta lc vs cc: -1.1119\n",
      "t-value: 2.6074\n",
      "p-value: 0.0159\n",
      "\n",
      "ilr1\n",
      "Intercept (cc): 3.7722\n",
      "Beta hc vs cc: 1.1458\n",
      "Beta lc vs cc: 0.1746\n",
      "t-value: 2.1083\n",
      "p-value: 0.0454\n",
      "\n"
     ]
    }
   ],
   "source": [
    "\n",
    "# === Redefine balances for new grouping ===\n",
    "\n",
    "balance = [[1,-1,1],[1,0,-1]]\n",
    "\n",
    "\n",
    "# Normalize new balances\n",
    "psi = coda.extra.norm(balance)\n",
    "\n",
    "# ILR transform with new balances\n",
    "ilr = response.coda.ilr(psi)\n",
    "ilr = ilr.rename(columns={0: 'ilr0', 1: 'ilr1'})\n",
    "ilr['Type'] = covariates['Type']\n",
    "\n",
    "# === Run ANOVA per balance and extract both contrasts ===\n",
    "print('\\n--- ANOVA per ILR balance ---')\n",
    "for part in ilr.columns[:-1]:\n",
    "    model = ols(f'{part} ~ Type', data=ilr).fit()\n",
    "    intercept = model.params.get('Intercept', np.nan)\n",
    "    beta_hc = model.params.get('Type[T.hc]', np.nan)\n",
    "    beta_lc = model.params.get('Type[T.lc]', np.nan)\n",
    "    t_value = np.sqrt(model.fvalue)\n",
    "    p_value = model.f_pvalue\n",
    "    \n",
    "    print(f'{part}')\n",
    "    print(f'Intercept (cc): {intercept:.4f}')\n",
    "    print(f'Beta hc vs cc: {beta_hc:.4f}')\n",
    "    print(f'Beta lc vs cc: {beta_lc:.4f}')\n",
    "    print(f't-value: {t_value:.4f}')\n",
    "    print(f'p-value: {p_value:.4f}')\n",
    "    print()\n"
   ]
  },
  {
   "cell_type": "code",
   "execution_count": 42,
   "id": "579adfaa",
   "metadata": {},
   "outputs": [
    {
     "data": {
      "image/png": "[encoded data removed]",
      "text/plain": [
       "<Figure size 800x600 with 1 Axes>"
      ]
     },
     "metadata": {},
     "output_type": "display_data"
    }
   ],
   "source": [
    "import pandas as pd\n",
    "import numpy as np\n",
    "import matplotlib.pyplot as plt\n",
    "\n",
    "# Assume `data` has: Type (cc/hc/lc), and amalgamated columns Oxides, Metals, Carbon\n",
    "parts = ['Oxides', 'Metals', 'Carbon']\n",
    "group_col = 'Type'\n",
    "\n",
    "# Calculate overall means\n",
    "overall_means = data[parts].mean()\n",
    "\n",
    "# Initialize storage\n",
    "within_var = []\n",
    "between_var = []\n",
    "\n",
    "# Calculate variance components\n",
    "for part in parts:\n",
    "    # Group means\n",
    "    group_means = data.groupby(group_col)[part].mean()\n",
    "    # Group sizes\n",
    "    group_sizes = data.groupby(group_col).size()\n",
    "    \n",
    "    # Between-group variance\n",
    "    between = np.sum(group_sizes * (group_means - overall_means[part])**2) / len(data)\n",
    "    between_var.append(between)\n",
    "    \n",
    "    # Within-group variance\n",
    "    within = 0\n",
    "    for g in data[group_col].unique():\n",
    "        group_data = data[data[group_col] == g][part]\n",
    "        within += np.sum((group_data - group_means[g])**2)\n",
    "    within /= len(data)\n",
    "    within_var.append(within)\n",
    "\n",
    "# Plot\n",
    "plt.figure(figsize=(8, 6))\n",
    "plt.scatter(within_var, between_var)\n",
    "\n",
    "for i, part in enumerate(parts):\n",
    "    plt.text(within_var[i], between_var[i], part, fontsize=10, ha='center', va='center')\n",
    "\n",
    "plt.axhline(0, color='gray', linestyle='--')\n",
    "plt.axvline(0, color='gray', linestyle='--')\n",
    "plt.xlabel('Variance within groups')\n",
    "plt.ylabel('Variance between groups')\n",
    "plt.title('Effect Plot of Meteorite Data')\n",
    "plt.tight_layout()\n",
    "plt.show()\n"
   ]
  }
 ],
 "metadata": {
  "kernelspec": {
   "display_name": "base",
   "language": "python",
   "name": "python3"
  },
  "language_info": {
   "codemirror_mode": {
    "name": "ipython",
    "version": 3
   },
   "file_extension": ".py",
   "mimetype": "text/x-python",
   "name": "python",
   "nbconvert_exporter": "python",
   "pygments_lexer": "ipython3",
   "version": "3.12.2"
  }
 },
 "nbformat": 4,
 "nbformat_minor": 5
}
