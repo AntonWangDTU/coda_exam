{
 "cells": [
  {
   "cell_type": "code",
   "execution_count": 3,
   "id": "8b4ac142",
   "metadata": {},
   "outputs": [],
   "source": [
    "import matplotlib.pyplot as plt\n",
    "import numpy as np\n",
    "import pandas as pd\n",
    "import scipy.special as sp\n",
    "import pycodamath as coda\n",
    "from pycodamath import extra\n",
    "import scipy.optimize as optimization\n"
   ]
  },
  {
   "cell_type": "code",
   "execution_count": null,
   "id": "fec519d2",
   "metadata": {},
   "outputs": [
    {
     "name": "stdout",
     "output_type": "stream",
     "text": [
      "  ASDgroup  Prevotella  Clostridium  Shigella  Klebsiella  Coprobacillus  \\\n",
      "0       A3           8            0        23          68            336   \n",
      "1       A5          12            1        25           8              0   \n",
      "2       A6           4            0        15          86              1   \n",
      "3       A9           9          737        12          59            103   \n",
      "4      A31          77           74         6          72            407   \n",
      "\n",
      "   Faecalibacterium  Butyricimonas  Alistipes  \n",
      "0              4988             64         15  \n",
      "1              5060           1385         20  \n",
      "2              2905            725        723  \n",
      "3              5745           1553        620  \n",
      "4              4822             40       3261  \n"
     ]
    }
   ],
   "source": [
    "data = pd.read_csv('../data/4-gut_microbiota_ASD_children.csv', sep=',')\n",
    "#rename the first column to 'ASDgroup'\n",
    "data.rename(columns={data.columns[0]: 'ASDgroup'}, inplace=True)\n",
    "print(data.head())"
   ]
  }
 ],
 "metadata": {
  "kernelspec": {
   "display_name": "base",
   "language": "python",
   "name": "python3"
  },
  "language_info": {
   "codemirror_mode": {
    "name": "ipython",
    "version": 3
   },
   "file_extension": ".py",
   "mimetype": "text/x-python",
   "name": "python",
   "nbconvert_exporter": "python",
   "pygments_lexer": "ipython3",
   "version": "3.12.9"
  }
 },
 "nbformat": 4,
 "nbformat_minor": 5
}
