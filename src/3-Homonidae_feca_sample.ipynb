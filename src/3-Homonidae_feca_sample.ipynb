{
 "cells": [
  {
   "cell_type": "code",
   "execution_count": 2,
   "id": "3fe27564",
   "metadata": {},
   "outputs": [],
   "source": [
    "import matplotlib.pyplot as plt\n",
    "import numpy as np\n",
    "import pandas as pd\n",
    "import scipy.special as sp\n",
    "import pycodamath as coda\n",
    "from pycodamath import extra\n",
    "import scipy.optimize as optimization"
   ]
  },
  {
   "cell_type": "code",
   "execution_count": 14,
   "id": "778ebccc",
   "metadata": {},
   "outputs": [
    {
     "name": "stdout",
     "output_type": "stream",
     "text": [
      "   Unnamed: 0   Homo     Pan  Musa  Zea  Ficus  Arachis  Citrus  Cannabis  \\\n",
      "0           0   93.0    93.0     3    7      1       15     960         0   \n",
      "1           1    0.0   138.0    73   22      2       78    1207      8428   \n",
      "2           2   73.0  1332.0   491    8     17      187    1704      9547   \n",
      "3           3   91.0  1471.0     2    6     51      425    2926     11276   \n",
      "4           4  100.0   140.0     0    1      0        8    1061      9530   \n",
      "\n",
      "   Corchorus  Population  \n",
      "0          0  Chimpanzee  \n",
      "1     106990  Chimpanzee  \n",
      "2     234014  Chimpanzee  \n",
      "3     146027  Chimpanzee  \n",
      "4          0  Chimpanzee  \n"
     ]
    }
   ],
   "source": [
    "data = pd.read_csv('../data/3-Homonidae_fecal_samples.csv', sep=',')\n",
    "print(data.head())"
   ]
  },
  {
   "cell_type": "code",
   "execution_count": null,
   "id": "e9701c09",
   "metadata": {},
   "outputs": [],
   "source": []
  }
 ],
 "metadata": {
  "kernelspec": {
   "display_name": "base",
   "language": "python",
   "name": "python3"
  },
  "language_info": {
   "codemirror_mode": {
    "name": "ipython",
    "version": 3
   },
   "file_extension": ".py",
   "mimetype": "text/x-python",
   "name": "python",
   "nbconvert_exporter": "python",
   "pygments_lexer": "ipython3",
   "version": "3.12.9"
  }
 },
 "nbformat": 4,
 "nbformat_minor": 5
}
